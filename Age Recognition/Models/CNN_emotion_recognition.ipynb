{
 "cells": [
  {
   "attachments": {},
   "cell_type": "markdown",
   "id": "021d2c93",
   "metadata": {},
   "source": [
    "# Emotion Recognition using CNN"
   ]
  },
  {
   "cell_type": "code",
   "execution_count": 1,
   "id": "41a71f44",
   "metadata": {},
   "outputs": [],
   "source": [
    "import tensorflow as tf\n",
    "import os\n",
    "import cv2\n",
    "from tensorflow.keras import layers"
   ]
  },
  {
   "cell_type": "code",
   "execution_count": 2,
   "id": "1999ed88",
   "metadata": {},
   "outputs": [],
   "source": [
    "# consts\n",
    "\n",
    "# Please provide you own path\n",
    "path = \"../../Datasets/Emotion Recognition/\"\n",
    "\n",
    "train_folder = path + \"train/\"\n",
    "valid_folder = path + \"validation/\"\n",
    "\n",
    "emotion_labels = ['Happy', 'Surprise', 'Sad', 'Neutral', 'Angry', 'Disgust', 'Fear']\n"
   ]
  },
  {
   "cell_type": "code",
   "execution_count": 3,
   "id": "ef796694",
   "metadata": {},
   "outputs": [],
   "source": [
    "# Defining emotions\n",
    "class Emotions:\n",
    "    def __init__(self):\n",
    "        self.emotion_labels = ['Happy', 'Surprise', 'Sad', 'Neutral', 'Angry', 'Disgust', 'Fear']\n",
    "\n",
    "    def get_emotion_label(self, index):\n",
    "        return self.emotion_labels[index]"
   ]
  },
  {
   "cell_type": "code",
   "execution_count": 4,
   "id": "0fba7e23",
   "metadata": {},
   "outputs": [],
   "source": [
    "\n",
    "# Function to load images from a folder\n",
    "def load_images_from_folder(folder):\n",
    "    images = []\n",
    "    labels = []\n",
    "    for emotion_idx, emotion in enumerate(emotion_labels):\n",
    "        folder_path = os.path.join(folder, emotion)\n",
    "        for filename in os.listdir(folder_path):\n",
    "            image_path = os.path.join(folder_path, filename)\n",
    "            image = cv2.imread(image_path, cv2.IMREAD_GRAYSCALE)\n",
    "            if image is not None:\n",
    "                images.append(image)\n",
    "                labels.append(emotion_idx)\n",
    "    return images, labels"
   ]
  },
  {
   "cell_type": "code",
   "execution_count": null,
   "id": "9d5e892d",
   "metadata": {},
   "outputs": [],
   "source": []
  },
  {
   "cell_type": "code",
   "execution_count": null,
   "id": "67228ec3",
   "metadata": {},
   "outputs": [],
   "source": [
    "# Define the CNN model\n",
    "model = tf.keras.Sequential([\n",
    "    layers.Conv2D(32, (3, 3), activation='relu', input_shape=(48, 48, 1)),\n",
    "    layers.BatchNormalization(),\n",
    "    layers.MaxPooling2D((2, 2)),\n",
    "    \n",
    "    layers.Conv2D(64, (3, 3), activation='relu'),\n",
    "    layers.BatchNormalization(),\n",
    "    layers.MaxPooling2D((2, 2)),\n",
    "    \n",
    "    layers.Conv2D(128, (3, 3), activation='relu'),\n",
    "    layers.BatchNormalization(),\n",
    "    layers.MaxPooling2D((2, 2)),\n",
    "    \n",
    "    layers.Flatten(),\n",
    "    \n",
    "    layers.Dense(64, activation='relu'),\n",
    "    layers.Dropout(0.5),\n",
    "    \n",
    "    layers.Dense(7, activation='softmax')  # 7 output classes for emotions\n",
    "])\n",
    "\n",
    "model.compile(optimizer='adam',\n",
    "              loss='categorical_crossentropy',\n",
    "              metrics=['accuracy'])\n",
    "\n",
    "model.summary()\n"
   ]
  },
  {
   "cell_type": "code",
   "execution_count": null,
   "id": "f7f3acb4",
   "metadata": {},
   "outputs": [],
   "source": [
    "model.fit(x_train, y_train, validation_data=(x_valid, y_valid), epochs=10, batch_size=32)"
   ]
  }
 ],
 "metadata": {
  "kernelspec": {
   "display_name": "Python 3 (ipykernel)",
   "language": "python",
   "name": "python3"
  },
  "language_info": {
   "codemirror_mode": {
    "name": "ipython",
    "version": 3
   },
   "file_extension": ".py",
   "mimetype": "text/x-python",
   "name": "python",
   "nbconvert_exporter": "python",
   "pygments_lexer": "ipython3",
   "version": "3.10.4"
  }
 },
 "nbformat": 4,
 "nbformat_minor": 5
}
