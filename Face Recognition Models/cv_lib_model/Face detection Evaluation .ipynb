{
 "cells": [
  {
   "cell_type": "code",
   "execution_count": 1,
   "id": "e33a68de",
   "metadata": {},
   "outputs": [],
   "source": [
    "import cvlib as cv\n",
    "import cv2\n",
    "import numpy as np\n",
    "import pandas as pd \n"
   ]
  },
  {
   "cell_type": "code",
   "execution_count": 2,
   "id": "3da6421a",
   "metadata": {},
   "outputs": [],
   "source": [
    "def readImage(image_path):\n",
    "    img = cv2.imread(image_path)\n",
    "    faces, _ = cv.detect_face(img)\n",
    "    \n",
    "    #if(len(faces) > 0):    \n",
    "        #print(len(faces))\n",
    "        #print(image_path)\n",
    "    return len(faces)"
   ]
  },
  {
   "cell_type": "code",
   "execution_count": null,
   "id": "1bc03c8a",
   "metadata": {},
   "outputs": [],
   "source": [
    "   \n",
    "# numOfFacesFound = 0\n",
    "# for i in range(0,600):\n",
    "#     numOfFacesFound = numOfFacesFound + readImage('C:\\\\Users\\\\Hp\\\\Github\\\\Age-Recognition-App\\\\Datasets\\\\Flowers\\\\flowerDS{0}.jpg'.format(i))\n",
    "# print(numOfFacesFound)\n",
    "\n",
    "numOfMultiFacesFound = 0\n",
    "for i in range(0,8196):\n",
    "    numOfMultiFacesFound = numOfMultiFacesFound + readImage('C:\\\\Users\\\\Hp\\\\Github\\\\Age-Recognition-App\\\\Datasets\\\\MultiFaces\\\\image_data\\\\multiFaceDS{0}.jpg'.format(i))\n",
    "print(numOfMultiFacesFound)\n",
    "\n",
    "MultiFacesDS = pd.read_csv(\"C:\\\\Users\\\\Hp\\\\Github\\\\Age-Recognition-App\\\\Datasets\\\\MultiFaces\\\\train.csv\")\n",
    "ActualNumOfMultiFaces = sum(MultiFacesDS[\"HeadCount\"])\n",
    "print(ActualNumOfMultiFaces)"
   ]
  },
  {
   "cell_type": "markdown",
   "id": "bbcc86bb",
   "metadata": {},
   "source": [
    "# Evaluation of face detection with house data set"
   ]
  },
  {
   "cell_type": "code",
   "execution_count": 9,
   "id": "137df271",
   "metadata": {},
   "outputs": [
    {
     "name": "stdout",
     "output_type": "stream",
     "text": [
      "67\n"
     ]
    }
   ],
   "source": [
    "numOfFacesInHousesFound = 0\n",
    "for i in range(0,5249):\n",
    "    numOfFacesInHousesFound = numOfFacesHousesFound + readImage('C:\\\\Users\\\\Hp\\\\Github\\\\Age-Recognition-App\\\\Datasets\\\\room_street_data\\house_data\\\\houseDS{0}.jpg'.format(i))\n",
    "print(numOfFacesHousesFound)\n"
   ]
  },
  {
   "cell_type": "markdown",
   "id": "227af9c3",
   "metadata": {},
   "source": [
    "# Confusion matrix for face detection (False Positive + True Positive)"
   ]
  },
  {
   "cell_type": "code",
   "execution_count": 20,
   "id": "84cf79a3",
   "metadata": {},
   "outputs": [
    {
     "name": "stdout",
     "output_type": "stream",
     "text": [
      "FalsePositive: 1325\n",
      "TruePositive: 301\n",
      "0       4\n",
      "1       4\n",
      "2       2\n",
      "3       3\n",
      "4       4\n",
      "       ..\n",
      "5728    2\n",
      "5729    3\n",
      "5730    5\n",
      "5731    8\n",
      "5732    4\n",
      "Name: HeadCount, Length: 5733, dtype: int64\n"
     ]
    }
   ],
   "source": [
    "FalsePositive = 0\n",
    "TruePositive = 0\n",
    "MultiFacesDS = pd.read_csv(\"C:\\\\Users\\\\Hp\\\\Github\\\\Age-Recognition-App\\\\Datasets\\\\MultiFaces\\\\train.csv\")\n",
    "ActualNumOfMultiFaces = MultiFacesDS[\"HeadCount\"]\n",
    "for i in range(0,8196):\n",
    "    found = readImage('C:\\\\Users\\\\Hp\\\\Github\\\\Age-Recognition-App\\\\Datasets\\\\MultiFaces\\\\image_data\\\\multiFaceDS{0}.jpg'.format(i))\n",
    "    actual = ActualNumOfMultiFaces[i]\n",
    "    \n",
    "    if(found < actual):\n",
    "        FalsePositive = FalsePositive + (actual - found)\n",
    "    if(found > actual):\n",
    "        FalsePositive = FalsePositive + (found - actual)\n",
    "    if(found == actual):\n",
    "        TruePositive = TruePositive + readImage('C:\\\\Users\\\\Hp\\\\Github\\\\Age-Recognition-App\\\\Datasets\\\\MultiFaces\\\\image_data\\\\multiFaceDS{0}.jpg'.format(i))\n",
    "\n",
    "print(\"FalsePositive:\", str(FalsePositive))\n",
    "print(\"TruePositive:\", str(TruePositive))\n"
   ]
  },
  {
   "cell_type": "code",
   "execution_count": 11,
   "id": "556a54a6",
   "metadata": {},
   "outputs": [
    {
     "data": {
      "text/plain": [
       "4"
      ]
     },
     "execution_count": 11,
     "metadata": {},
     "output_type": "execute_result"
    }
   ],
   "source": [
    "MultiFacesDS = pd.read_csv(\"C:\\\\Users\\\\Hp\\\\Github\\\\Age-Recognition-App\\\\Datasets\\\\MultiFaces\\\\train.csv\")\n",
    "MultiFacesDS[\"HeadCount\"][0]"
   ]
  },
  {
   "cell_type": "code",
   "execution_count": 19,
   "id": "a7d8469b",
   "metadata": {},
   "outputs": [
    {
     "name": "stdout",
     "output_type": "stream",
     "text": [
      "hi 5\n"
     ]
    }
   ],
   "source": [
    "print(\"hi\", 5)"
   ]
  },
  {
   "cell_type": "code",
   "execution_count": 22,
   "id": "1851074b",
   "metadata": {},
   "outputs": [
    {
     "name": "stdout",
     "output_type": "stream",
     "text": [
      "FalsePositive: 242\n",
      "TruePositive: 165\n"
     ]
    }
   ],
   "source": [
    "FalsePositive = 0\n",
    "TruePositive = 0\n",
    "MultiFacesDS = pd.read_csv(\"C:\\\\Users\\\\Hp\\\\Github\\\\Age-Recognition-App\\\\Datasets\\\\MultiFaces\\\\train.csv\")\n",
    "ActualNumOfMultiFaces = MultiFacesDS[\"HeadCount\"]\n",
    "for i in range(0,300):\n",
    "    found = readImage('C:\\\\Users\\\\Hp\\\\Github\\\\Age-Recognition-App\\\\Datasets\\\\MultiFaces\\\\image_data\\\\multiFaceDS{0}.jpg'.format(i))\n",
    "    actual = ActualNumOfMultiFaces[i]\n",
    "    \n",
    "    if(found < actual):\n",
    "        FalsePositive = FalsePositive + 1\n",
    "    if(found > actual):\n",
    "        FalsePositive = FalsePositive + 1\n",
    "    if(found == actual):\n",
    "        TruePositive = TruePositive + readImage('C:\\\\Users\\\\Hp\\\\Github\\\\Age-Recognition-App\\\\Datasets\\\\MultiFaces\\\\image_data\\\\multiFaceDS{0}.jpg'.format(i))\n",
    "\n",
    "print(\"FalsePositive:\", str(FalsePositive))\n",
    "print(\"TruePositive:\", str(TruePositive))"
   ]
  },
  {
   "cell_type": "markdown",
   "id": "1672d1c2",
   "metadata": {},
   "source": [
    "# Evaluation (in numbers) of face detection "
   ]
  },
  {
   "cell_type": "code",
   "execution_count": 24,
   "id": "8aef2fe7",
   "metadata": {},
   "outputs": [
    {
     "name": "stdout",
     "output_type": "stream",
     "text": [
      "Faces Found: 23352\n",
      "Actual number of Faces: 24533\n"
     ]
    }
   ],
   "source": [
    "numOfMultiFacesFound = 0\n",
    "for i in range(0,8196):\n",
    "    numOfMultiFacesFound = numOfMultiFacesFound + readImage('C:\\\\Users\\\\Hp\\\\Github\\\\Age-Recognition-App\\\\Datasets\\\\MultiFaces\\\\image_data\\\\multiFaceDS{0}.jpg'.format(i))\n",
    "print(\"Faces Found:\", numOfMultiFacesFound)\n",
    "\n",
    "MultiFacesDS = pd.read_csv(\"C:\\\\Users\\\\Hp\\\\Github\\\\Age-Recognition-App\\\\Datasets\\\\MultiFaces\\\\train.csv\")\n",
    "ActualNumOfMultiFaces = sum(MultiFacesDS[\"HeadCount\"])\n",
    "print(\"Actual number of Faces:\", ActualNumOfMultiFaces)"
   ]
  },
  {
   "cell_type": "code",
   "execution_count": null,
   "id": "56654b43",
   "metadata": {},
   "outputs": [],
   "source": []
  }
 ],
 "metadata": {
  "kernelspec": {
   "display_name": "Python 3 (ipykernel)",
   "language": "python",
   "name": "python3"
  },
  "language_info": {
   "codemirror_mode": {
    "name": "ipython",
    "version": 3
   },
   "file_extension": ".py",
   "mimetype": "text/x-python",
   "name": "python",
   "nbconvert_exporter": "python",
   "pygments_lexer": "ipython3",
   "version": "3.9.12"
  }
 },
 "nbformat": 4,
 "nbformat_minor": 5
}
